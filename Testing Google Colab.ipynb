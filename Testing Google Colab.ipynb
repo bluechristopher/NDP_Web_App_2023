{
  "nbformat": 4,
  "nbformat_minor": 0,
  "metadata": {
    "colab": {
      "provenance": [],
      "authorship_tag": "ABX9TyP00xzfYp+3QqJSDZYrsluo",
      "include_colab_link": true
    },
    "kernelspec": {
      "name": "python3",
      "display_name": "Python 3"
    },
    "language_info": {
      "name": "python"
    }
  },
  "cells": [
    {
      "cell_type": "markdown",
      "metadata": {
        "id": "view-in-github",
        "colab_type": "text"
      },
      "source": [
        "<a href=\"https://colab.research.google.com/github/bluechristopher/NDP_Web_App_2023/blob/main/Testing%20Google%20Colab.ipynb\" target=\"_parent\"><img src=\"https://colab.research.google.com/assets/colab-badge.svg\" alt=\"Open In Colab\"/></a>"
      ]
    },
    {
      "cell_type": "code",
      "execution_count": 2,
      "metadata": {
        "colab": {
          "base_uri": "https://localhost:8080/"
        },
        "id": "sqm0e1odcRQO",
        "outputId": "e7fab8a3-acdf-41fe-f8e9-6c9b6e22407b"
      },
      "outputs": [
        {
          "output_type": "stream",
          "name": "stdout",
          "text": [
            "List comprehension time: 17.747400737999996 sec\n",
            "For loop time: 20.719377213 sec\n",
            "Difference: -2.9719764750000053 sec\n"
          ]
        }
      ],
      "source": [
        "import timeit\n",
        "\n",
        "# Define list comprehension and for-loop versions\n",
        "list_comp_code = \"[x**3 for x in range(50000)]\"\n",
        "loop_code = \"\"\"\n",
        "cubes = []\n",
        "for x in range(50000):\n",
        "    cubes.append(x**3)\n",
        "\"\"\"\n",
        "\n",
        "# Measure execution times\n",
        "list_comp_time = timeit.timeit(list_comp_code, number=1000)\n",
        "loop_time = timeit.timeit(loop_code, number=1000)\n",
        "\n",
        "# Show total execution times\n",
        "print(\"List comprehension time:\", list_comp_time, \"sec\")\n",
        "print(\"For loop time:\", loop_time, \"sec\")\n",
        "print(\"Difference:\", list_comp_time - loop_time, \"sec\")"
      ]
    },
    {
      "cell_type": "code",
      "source": [],
      "metadata": {
        "id": "QDDIWJb8cX8B"
      },
      "execution_count": null,
      "outputs": []
    }
  ]
}