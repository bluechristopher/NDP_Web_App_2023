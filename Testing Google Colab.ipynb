{
  "nbformat": 4,
  "nbformat_minor": 0,
  "metadata": {
    "colab": {
      "provenance": [],
      "authorship_tag": "ABX9TyOCzoRA0Gc+azqsi0UXaPin",
      "include_colab_link": true
    },
    "kernelspec": {
      "name": "python3",
      "display_name": "Python 3"
    },
    "language_info": {
      "name": "python"
    }
  },
  "cells": [
    {
      "cell_type": "markdown",
      "metadata": {
        "id": "view-in-github",
        "colab_type": "text"
      },
      "source": [
        "<a href=\"https://colab.research.google.com/github/bluechristopher/NDP_Web_App_2023/blob/main/Testing%20Google%20Colab.ipynb\" target=\"_parent\"><img src=\"https://colab.research.google.com/assets/colab-badge.svg\" alt=\"Open In Colab\"/></a>"
      ]
    },
    {
      "cell_type": "code",
      "execution_count": null,
      "metadata": {
        "colab": {
          "base_uri": "https://localhost:8080/"
        },
        "id": "sqm0e1odcRQO",
        "outputId": "e7fab8a3-acdf-41fe-f8e9-6c9b6e22407b"
      },
      "outputs": [
        {
          "output_type": "stream",
          "name": "stdout",
          "text": [
            "List comprehension time: 17.747400737999996 sec\n",
            "For loop time: 20.719377213 sec\n",
            "Difference: -2.9719764750000053 sec\n"
          ]
        }
      ],
      "source": [
        "import timeit\n",
        "\n",
        "# Define list comprehension and for-loop versions\n",
        "list_comp_code = \"[x**3 for x in range(50000)]\"\n",
        "loop_code = \"\"\"\n",
        "cubes = []\n",
        "for x in range(50000):\n",
        "    cubes.append(x**3)\n",
        "\"\"\"\n",
        "\n",
        "# Measure execution times\n",
        "list_comp_time = timeit.timeit(list_comp_code, number=1000)\n",
        "loop_time = timeit.timeit(loop_code, number=1000)\n",
        "\n",
        "# Show total execution times\n",
        "print(\"List comprehension time:\", list_comp_time, \"sec\")\n",
        "print(\"For loop time:\", loop_time, \"sec\")\n",
        "print(\"Difference:\", list_comp_time - loop_time, \"sec\")"
      ]
    },
    {
      "cell_type": "code",
      "source": [
        "with open(\"marks.csv\") as file:\n",
        "    x = file.read()\n",
        "\n",
        "output_list = x.split(\"\\n\")\n",
        "\n",
        "mark_dict = {}\n",
        "\n",
        "header_list = [header for header in output_list[0].split(\",\")]\n",
        "\n",
        "for i in range(1, len(output_list)):\n",
        "    data = output_list[i].split(\",\")\n",
        "    print(data)\n",
        "    mark_dict[data[0]] = {header_list[i]: data[i]\n",
        "                          for i in range(1,len(header_list))}\n",
        "\n"
      ],
      "metadata": {
        "id": "QDDIWJb8cX8B",
        "colab": {
          "base_uri": "https://localhost:8080/"
        },
        "outputId": "229b9311-bd80-43b7-cf57-8b1d5762ff6d"
      },
      "execution_count": 28,
      "outputs": [
        {
          "output_type": "stream",
          "name": "stdout",
          "text": [
            "['George', 'M', '95']\n",
            "['Mindy', 'F', '78']\n",
            "['Fred', 'M', '56']\n",
            "['Jason', 'M', '88']\n",
            "['Joel', 'M', '72']\n"
          ]
        },
        {
          "output_type": "execute_result",
          "data": {
            "text/plain": [
              "{'gender': 'M', 'mark': '72'}"
            ]
          },
          "metadata": {},
          "execution_count": 28
        }
      ]
    },
    {
      "cell_type": "code",
      "source": [
        "for key, val in mark_dict.items():\n",
        "    print(key, val['gender'], val['mark'])"
      ],
      "metadata": {
        "colab": {
          "base_uri": "https://localhost:8080/"
        },
        "id": "zeRvW3YpdXkr",
        "outputId": "21588d8d-cb06-4376-b10c-9434eb9b5251"
      },
      "execution_count": 32,
      "outputs": [
        {
          "output_type": "stream",
          "name": "stdout",
          "text": [
            "George M 95\n",
            "Mindy F 78\n",
            "Fred M 56\n",
            "Jason M 88\n",
            "Joel M 72\n"
          ]
        }
      ]
    },
    {
      "cell_type": "code",
      "source": [
        "import fibonacci"
      ],
      "metadata": {
        "id": "4vUc9_SKh63l"
      },
      "execution_count": 33,
      "outputs": []
    },
    {
      "cell_type": "code",
      "source": [],
      "metadata": {
        "id": "i_ANv2eZiTSC"
      },
      "execution_count": null,
      "outputs": []
    }
  ]
}